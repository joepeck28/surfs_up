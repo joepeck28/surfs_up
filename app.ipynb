{
 "cells": [
  {
   "cell_type": "code",
   "execution_count": 1,
   "id": "f3202fa3-6470-4158-a5ae-4eb15abb7b1c",
   "metadata": {},
   "outputs": [],
   "source": [
    "from flask import Flask"
   ]
  },
  {
   "cell_type": "code",
   "execution_count": 2,
   "id": "46cc8889-c6fe-4064-a53c-c80bf9dea76c",
   "metadata": {},
   "outputs": [],
   "source": [
    "app = Flask(__name__)"
   ]
  },
  {
   "cell_type": "code",
   "execution_count": 3,
   "id": "23e20c30-6392-4ccb-89ec-24b6a6e8b2fa",
   "metadata": {},
   "outputs": [],
   "source": [
    "@app.route('/')\n",
    "def hello_world():\n",
    "    return 'Hello world'"
   ]
  },
  {
   "cell_type": "code",
   "execution_count": 1,
   "id": "ee866ea8-e06c-4344-9ef3-6e31bc8ebf23",
   "metadata": {},
   "outputs": [
    {
     "ename": "SyntaxError",
     "evalue": "invalid syntax (1527676619.py, line 1)",
     "output_type": "error",
     "traceback": [
      "\u001b[1;36m  File \u001b[1;32m\"C:\\Users\\Joe\\AppData\\Local\\Temp\\ipykernel_37732\\1527676619.py\"\u001b[1;36m, line \u001b[1;32m1\u001b[0m\n\u001b[1;33m    export FLASK_APP=app.py\u001b[0m\n\u001b[1;37m                   ^\u001b[0m\n\u001b[1;31mSyntaxError\u001b[0m\u001b[1;31m:\u001b[0m invalid syntax\n"
     ]
    }
   ],
   "source": [
    "export FLASK_APP=app.py"
   ]
  },
  {
   "cell_type": "code",
   "execution_count": 2,
   "id": "dcf4745a",
   "metadata": {},
   "outputs": [
    {
     "ename": "SyntaxError",
     "evalue": "invalid syntax (3280169772.py, line 1)",
     "output_type": "error",
     "traceback": [
      "\u001b[1;36m  File \u001b[1;32m\"C:\\Users\\Joe\\AppData\\Local\\Temp\\ipykernel_37732\\3280169772.py\"\u001b[1;36m, line \u001b[1;32m1\u001b[0m\n\u001b[1;33m    set FLASK_APP=app.py\u001b[0m\n\u001b[1;37m                ^\u001b[0m\n\u001b[1;31mSyntaxError\u001b[0m\u001b[1;31m:\u001b[0m invalid syntax\n"
     ]
    }
   ],
   "source": [
    "set FLASK_APP=app.py"
   ]
  },
  {
   "cell_type": "code",
   "execution_count": null,
   "id": "e0747080",
   "metadata": {},
   "outputs": [],
   "source": []
  }
 ],
 "metadata": {
  "kernelspec": {
   "display_name": "PythonData",
   "language": "python",
   "name": "pythondata"
  },
  "language_info": {
   "codemirror_mode": {
    "name": "ipython",
    "version": 3
   },
   "file_extension": ".py",
   "mimetype": "text/x-python",
   "name": "python",
   "nbconvert_exporter": "python",
   "pygments_lexer": "ipython3",
   "version": "3.7.13"
  }
 },
 "nbformat": 4,
 "nbformat_minor": 5
}
